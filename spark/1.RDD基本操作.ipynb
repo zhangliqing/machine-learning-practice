{
 "cells": [
  {
   "cell_type": "code",
   "execution_count": 1,
   "metadata": {
    "collapsed": true
   },
   "outputs": [],
   "source": [
    "import findspark\n",
    "\n",
    "findspark.init()"
   ]
  },
  {
   "cell_type": "code",
   "execution_count": 2,
   "metadata": {
    "collapsed": true
   },
   "outputs": [],
   "source": [
    "from pyspark import SparkConf,SparkContext"
   ]
  },
  {
   "cell_type": "markdown",
   "metadata": {},
   "source": [
    "# 创建RDD"
   ]
  },
  {
   "cell_type": "code",
   "execution_count": 3,
   "metadata": {
    "collapsed": true
   },
   "outputs": [],
   "source": [
    "#创建SparkContext对象\n",
    "conf=SparkConf().setMaster(\"local\").setAppName(\"my app\")\n",
    "sc=SparkContext(conf=conf)"
   ]
  },
  {
   "cell_type": "code",
   "execution_count": 4,
   "metadata": {},
   "outputs": [
    {
     "data": {
      "text/plain": [
       "pyspark.rdd.RDD"
      ]
     },
     "execution_count": 4,
     "metadata": {},
     "output_type": "execute_result"
    }
   ],
   "source": [
    "#法一：将一个已有的集合传给SparkContext.paralleize() 不常用，因为要先将数据都读到内存\n",
    "lines=sc.parallelize([\"pandas\",\"i like pandas\"])\n",
    "type(lines)"
   ]
  },
  {
   "cell_type": "code",
   "execution_count": 5,
   "metadata": {},
   "outputs": [
    {
     "data": {
      "text/plain": [
       "pyspark.rdd.RDD"
      ]
     },
     "execution_count": 5,
     "metadata": {},
     "output_type": "execute_result"
    }
   ],
   "source": [
    "#法二：从外部数据中读取（惰性）\n",
    "lines=sc.textFile(\"README.md\")\n",
    "type(lines)"
   ]
  },
  {
   "cell_type": "markdown",
   "metadata": {},
   "source": [
    "# RDD操作——转化操作 （由一个RDD生成一个新的RDD）\n",
    "# 注意：spark在转化操作中并不会计算，遇到第一个行动操作时才计算"
   ]
  },
  {
   "cell_type": "markdown",
   "metadata": {},
   "source": [
    "### 对元素的操作"
   ]
  },
  {
   "cell_type": "code",
   "execution_count": 6,
   "metadata": {},
   "outputs": [
    {
     "name": "stdout",
     "output_type": "stream",
     "text": [
      "high-level APIs in Scala, Java, Python, and R, and an optimized engine that\n",
      "## Interactive Python Shell\n",
      "Alternatively, if you prefer Python, you can use the Python shell:\n"
     ]
    }
   ],
   "source": [
    "pythonLines=lines.filter(lambda line:\"Python\" in line)\n",
    "for line in pythonLines.take(pythonLines.count()):\n",
    "    print(line)"
   ]
  },
  {
   "cell_type": "code",
   "execution_count": 7,
   "metadata": {},
   "outputs": [
    {
     "name": "stdout",
     "output_type": "stream",
     "text": [
      "['hello', 'world']\n",
      "['hi', 'hawaii']\n"
     ]
    }
   ],
   "source": [
    "#map 对每个元素做操作\n",
    "lines=sc.parallelize([\"hello world\",\"hi hawaii\"])\n",
    "words=lines.map(lambda line:line.split(\" \"))\n",
    "for word in words.take(words.count()):\n",
    "    print (word)"
   ]
  },
  {
   "cell_type": "code",
   "execution_count": 8,
   "metadata": {},
   "outputs": [
    {
     "name": "stdout",
     "output_type": "stream",
     "text": [
      "hello\n",
      "world\n",
      "hi\n",
      "hawaii\n"
     ]
    }
   ],
   "source": [
    "#flatMap 对每个输入元素生成多个输出元素\n",
    "lines=sc.parallelize([\"hello world\",\"hi hawaii\"])\n",
    "words=lines.flatMap(lambda line:line.split(\" \"))\n",
    "for word in words.take(words.count()):\n",
    "    print (word)"
   ]
  },
  {
   "cell_type": "markdown",
   "metadata": {},
   "source": [
    "### 伪集合操作"
   ]
  },
  {
   "cell_type": "code",
   "execution_count": 9,
   "metadata": {
    "collapsed": true
   },
   "outputs": [],
   "source": [
    "rdd1=sc.parallelize([1,2,3,3])\n",
    "rdd2=sc.parallelize([1,2,2,4])"
   ]
  },
  {
   "cell_type": "code",
   "execution_count": 10,
   "metadata": {},
   "outputs": [
    {
     "name": "stdout",
     "output_type": "stream",
     "text": [
      "1\n",
      "2\n",
      "3\n",
      "3\n",
      "1\n",
      "2\n",
      "2\n",
      "4\n"
     ]
    }
   ],
   "source": [
    "#union 连接(不会去重)\n",
    "rdd=rdd1.union(rdd2)\n",
    "for i in rdd.take(rdd.count()):\n",
    "    print (i)"
   ]
  },
  {
   "cell_type": "code",
   "execution_count": 11,
   "metadata": {},
   "outputs": [
    {
     "name": "stdout",
     "output_type": "stream",
     "text": [
      "1\n",
      "2\n",
      "3\n"
     ]
    }
   ],
   "source": [
    "#distinct 去重\n",
    "rdd3=rdd1.distinct()\n",
    "for i in rdd3.take(rdd3.count()):\n",
    "    print (i)"
   ]
  },
  {
   "cell_type": "code",
   "execution_count": 12,
   "metadata": {},
   "outputs": [
    {
     "name": "stdout",
     "output_type": "stream",
     "text": [
      "2\n",
      "1\n"
     ]
    }
   ],
   "source": [
    "#intersection 求公共元素\n",
    "rdd3=rdd1.intersection(rdd2)\n",
    "for i in rdd3.take(rdd3.count()):\n",
    "    print (i)"
   ]
  },
  {
   "cell_type": "code",
   "execution_count": 13,
   "metadata": {},
   "outputs": [
    {
     "name": "stdout",
     "output_type": "stream",
     "text": [
      "3\n",
      "3\n"
     ]
    }
   ],
   "source": [
    "#subtract 减\n",
    "rdd3=rdd1.subtract(rdd2)\n",
    "for i in rdd3.take(rdd3.count()):\n",
    "    print (i)"
   ]
  },
  {
   "cell_type": "code",
   "execution_count": 14,
   "metadata": {},
   "outputs": [
    {
     "name": "stdout",
     "output_type": "stream",
     "text": [
      "(1, 1)\n",
      "(1, 2)\n",
      "(1, 2)\n",
      "(1, 4)\n",
      "(2, 1)\n",
      "(2, 2)\n",
      "(2, 2)\n",
      "(2, 4)\n",
      "(3, 1)\n",
      "(3, 2)\n",
      "(3, 2)\n",
      "(3, 4)\n",
      "(3, 1)\n",
      "(3, 2)\n",
      "(3, 2)\n",
      "(3, 4)\n"
     ]
    }
   ],
   "source": [
    "#cartesian 求笛卡尔积\n",
    "rdd3=rdd1.cartesian(rdd2)\n",
    "for i in rdd3.take(rdd3.count()):\n",
    "    print (i)"
   ]
  },
  {
   "cell_type": "code",
   "execution_count": null,
   "metadata": {
    "collapsed": true
   },
   "outputs": [],
   "source": [
    "#sample 取样\n",
    "rdd3=rdd1.sample(False,0.5)\n",
    "rdd3.count()"
   ]
  },
  {
   "cell_type": "markdown",
   "metadata": {},
   "source": [
    "# RDD操作——行动操作（会对RDD计算出一个结果）\n",
    "# 结果(是list类型)返回到驱动器程序或写入外部系统\n",
    "\n",
    "### 注意，每次行动操作spark都会从头计算，可以用persist将中间结果长久化到内存，以便重复使用"
   ]
  },
  {
   "cell_type": "code",
   "execution_count": 18,
   "metadata": {
    "collapsed": true
   },
   "outputs": [],
   "source": [
    "rdd=sc.parallelize([1,2,3,3])"
   ]
  },
  {
   "cell_type": "code",
   "execution_count": 19,
   "metadata": {},
   "outputs": [
    {
     "name": "stdout",
     "output_type": "stream",
     "text": [
      "<class 'pyspark.rdd.RDD'>\n",
      "<type 'list'>\n"
     ]
    }
   ],
   "source": [
    "#collect 将数据返回驱动器程序（要求所有数据必须能放入同一台单机内存中）\n",
    "print (type(rdd))\n",
    "print (type(rdd.collect()))"
   ]
  },
  {
   "cell_type": "code",
   "execution_count": 20,
   "metadata": {},
   "outputs": [
    {
     "name": "stdout",
     "output_type": "stream",
     "text": [
      "[1, 2]\n"
     ]
    }
   ],
   "source": [
    "#take（n）返回rdd中n个元素，但是并不保证顺序\n",
    "l1=rdd.take(2)\n",
    "print (l1)"
   ]
  },
  {
   "cell_type": "code",
   "execution_count": 21,
   "metadata": {},
   "outputs": [
    {
     "name": "stdout",
     "output_type": "stream",
     "text": [
      "[3, 3, 2]\n"
     ]
    }
   ],
   "source": [
    "#top 取前几个数据\n",
    "l1=rdd.top(3)\n",
    "print (l1)"
   ]
  },
  {
   "cell_type": "code",
   "execution_count": 22,
   "metadata": {},
   "outputs": [
    {
     "name": "stdout",
     "output_type": "stream",
     "text": [
      "[3, 1, 2]\n"
     ]
    }
   ],
   "source": [
    "#takeSample 采样 \n",
    "l1=rdd.takeSample(False,3)\n",
    "print (l1)"
   ]
  },
  {
   "cell_type": "code",
   "execution_count": 23,
   "metadata": {
    "collapsed": true
   },
   "outputs": [],
   "source": [
    "#foreach 对每个元素进行特定操作 但不会返回任何数据到驱动器程序   ？？？？\n",
    "def g(x):\n",
    "    print (x)\n",
    "rdd.foreach(g)"
   ]
  },
  {
   "cell_type": "code",
   "execution_count": 24,
   "metadata": {},
   "outputs": [
    {
     "name": "stdout",
     "output_type": "stream",
     "text": [
      "4\n"
     ]
    }
   ],
   "source": [
    "#count 返回个数\n",
    "print (rdd.count())"
   ]
  },
  {
   "cell_type": "code",
   "execution_count": 25,
   "metadata": {},
   "outputs": [
    {
     "name": "stdout",
     "output_type": "stream",
     "text": [
      "defaultdict(<type 'int'>, {1: 1, 2: 1, 3: 2})\n"
     ]
    }
   ],
   "source": [
    "#countByValue 按值统计\n",
    "print (rdd.countByValue())"
   ]
  },
  {
   "cell_type": "code",
   "execution_count": 39,
   "metadata": {},
   "outputs": [
    {
     "name": "stdout",
     "output_type": "stream",
     "text": [
      "9\n",
      "18\n"
     ]
    }
   ],
   "source": [
    "#reduce 并行整和rdd中所有数据\n",
    "print (rdd.reduce(lambda x,y:(x+y))) #x是指返回值，y是对rdd元素的遍历\n",
    "print (rdd.reduce(lambda x,y:(x*y)))"
   ]
  },
  {
   "cell_type": "code",
   "execution_count": 36,
   "metadata": {},
   "outputs": [
    {
     "name": "stdout",
     "output_type": "stream",
     "text": [
      "29\n",
      "9\n"
     ]
    }
   ],
   "source": [
    "#fold 跟reduce一样，但要提供初始值\n",
    "def add(x,y):\n",
    "    return x+y\n",
    "print (rdd.fold(10,add)) #1+2+10=13   3+3+10=16   13+16=29\n",
    "print (rdd.fold(0,add))\n"
   ]
  },
  {
   "cell_type": "code",
   "execution_count": 42,
   "metadata": {},
   "outputs": [
    {
     "name": "stdout",
     "output_type": "stream",
     "text": [
      "2.25\n"
     ]
    }
   ],
   "source": [
    "#aggregate \n",
    "sumCount=rdd.aggregate((0,0),\n",
    "                      (lambda x,y:(x[0]+y,x[1]+1)),#单个累加器的 累加和计数\n",
    "                      (lambda acc1,acc2:(acc1[0]+acc2[0],acc1[1]+acc2[1]))#因为是分布式计算的，将多个累加器合并起来\n",
    "                      )\n",
    "print(sumCount[0]/float(sumCount[1]))"
   ]
  },
  {
   "cell_type": "markdown",
   "metadata": {
    "collapsed": true
   },
   "source": [
    "# RDD的持久化"
   ]
  },
  {
   "cell_type": "code",
   "execution_count": 43,
   "metadata": {},
   "outputs": [
    {
     "data": {
      "text/plain": [
       "ParallelCollectionRDD[48] at parallelize at PythonRDD.scala:480"
      ]
     },
     "execution_count": 43,
     "metadata": {},
     "output_type": "execute_result"
    }
   ],
   "source": [
    "rdd.persist()"
   ]
  },
  {
   "cell_type": "code",
   "execution_count": null,
   "metadata": {
    "collapsed": true
   },
   "outputs": [],
   "source": []
  }
 ],
 "metadata": {
  "kernelspec": {
   "display_name": "Python 3",
   "language": "python",
   "name": "python3"
  },
  "language_info": {
   "codemirror_mode": {
    "name": "ipython",
    "version": 2
   },
   "file_extension": ".py",
   "mimetype": "text/x-python",
   "name": "python",
   "nbconvert_exporter": "python",
   "pygments_lexer": "ipython2",
   "version": "2.7.13"
  }
 },
 "nbformat": 4,
 "nbformat_minor": 2
}
