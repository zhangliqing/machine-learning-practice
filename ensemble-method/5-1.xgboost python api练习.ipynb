{
 "cells": [
  {
   "cell_type": "code",
   "execution_count": 24,
   "metadata": {},
   "outputs": [],
   "source": [
    "import pandas as pd\n",
    "import numpy as np\n",
    "import xgboost as xgb\n",
    "from xgboost.sklearn import XGBClassifier\n",
    "from sklearn import cross_validation, metrics   \n",
    "from sklearn.grid_search import GridSearchCV \n",
    "import graphviz\n",
    "\n",
    "import matplotlib.pylab as plt\n",
    "%matplotlib inline\n",
    "from matplotlib.pylab import rcParams\n",
    "rcParams['figure.figsize'] = 12, 12"
   ]
  },
  {
   "cell_type": "code",
   "execution_count": 25,
   "metadata": {
    "collapsed": true
   },
   "outputs": [],
   "source": [
    "train = pd.read_csv('./dataset/Loan information.csv')\n",
    "target = 'Disbursed'\n",
    "IDcol = 'ID'"
   ]
  },
  {
   "cell_type": "markdown",
   "metadata": {},
   "source": [
    "## python api探究"
   ]
  },
  {
   "cell_type": "markdown",
   "metadata": {},
   "source": [
    "## 1.主要数据结构：\n",
    "### xgboost.DMatrix(data, label=None, missing=None, weight=None, silent=False, feature_names=None, feature_types=None, nthread=None)    （内部使用的数据结构）\n",
    "### xgboost.Booster(params=None, cache=(), model_file=None) （基本学习器）"
   ]
  },
  {
   "cell_type": "markdown",
   "metadata": {},
   "source": [
    "## 2.学习API   (注意：参数定了也就相当于模型定了)\n",
    "### 用给定的参数训练模型\n",
    "### xgboost.train(params, dtrain, num_boost_round=10, evals=(), obj=None, feval=None, maximize=False, early_stopping_rounds=None, evals_result=None, verbose_eval=True, xgb_model=None, callbacks=None, learning_rates=None)     \n",
    "\n",
    "### 用给定的参数进行交叉验证 \n",
    "### xgboost.cv(params, dtrain, num_boost_round=10, nfold=3, stratified=False, folds=None, metrics=(), obj=None, feval=None, maximize=False, early_stopping_rounds=None, fpreproc=None, as_pandas=True, verbose_eval=None, show_stdv=True, seed=0, callbacks=None, shuffle=True)  \n",
    "early_stopping_rounds=N （在训练的过程中，记录最佳的validation accuracy，当连续N次epoch（或者更多次）没达到最佳accuracy时，可以认为“不再提高”，此时使用early stopping。）"
   ]
  },
  {
   "cell_type": "markdown",
   "metadata": {
    "collapsed": true
   },
   "source": [
    "# 3.绘图API\n",
    "### xgboost.plot_importance(booster, ax=None, height=0.2, xlim=None, ylim=None, title='Feature importance', xlabel='F score', ylabel='Features', importance_type='weight', max_num_features=None, grid=True, **kwargs)¶\n",
    "### xgboost.plot_tree(booster, fmap='', num_trees=0, rankdir='UT', ax=None, **kwargs)"
   ]
  },
  {
   "cell_type": "markdown",
   "metadata": {},
   "source": [
    "## 4.Scikit-Learn API\n",
    "### xgboost.XGBRegressor(max_depth=3, learning_rate=0.1, n_estimators=100, silent=True, objective='reg:linear', booster='gbtree', n_jobs=1, nthread=None, gamma=0, min_child_weight=1, max_delta_step=0, subsample=1, colsample_bytree=1, colsample_bylevel=1, reg_alpha=0, reg_lambda=1, scale_pos_weight=1, base_score=0.5, random_state=0, seed=None, missing=None, **kwargs)\n",
    "### xgboost.XGBClassifier(max_depth=3, learning_rate=0.1, n_estimators=100, silent=True, objective='binary:logistic', booster='gbtree', n_jobs=1, nthread=None, gamma=0, min_child_weight=1, max_delta_step=0, subsample=1, colsample_bytree=1, colsample_bylevel=1, reg_alpha=0, reg_lambda=1, scale_pos_weight=1, base_score=0.5, random_state=0, seed=None, missing=None, **kwargs)\n",
    "#### evals_result() 返回评估结果\n",
    "#### fit(X, y, sample_weight=None, eval_set=None, eval_metric=None, early_stopping_rounds=None, verbose=True)  相当于train"
   ]
  },
  {
   "cell_type": "code",
   "execution_count": 26,
   "metadata": {
    "collapsed": true
   },
   "outputs": [],
   "source": [
    "predictors = [x for x in train.columns if x not in [target,IDcol]]\n",
    "dtrain = xgb.DMatrix(train[predictors].values, label=train[target].values,feature_names=predictors)#构造"
   ]
  },
  {
   "cell_type": "code",
   "execution_count": 27,
   "metadata": {
    "collapsed": true
   },
   "outputs": [],
   "source": [
    "param={'base_score': 0.5,\n",
    " 'booster': 'gbtree',\n",
    " 'colsample_bylevel': 1,\n",
    " 'colsample_bytree': 0.8,\n",
    " 'gamma': 0,\n",
    " 'learning_rate': 0.1,\n",
    " 'max_delta_step': 0,\n",
    " 'max_depth': 5,\n",
    " 'min_child_weight': 1,\n",
    " 'missing': None,\n",
    " 'n_estimators': 100,\n",
    " 'nthread': 4,\n",
    " 'objective': 'binary:logistic',\n",
    " 'reg_alpha': 0,\n",
    " 'reg_lambda': 1,\n",
    " 'scale_pos_weight': 1,\n",
    " 'seed': 27,\n",
    " 'silent': 1,\n",
    " 'subsample': 0.8}\n",
    "booster=xgb.train(param,dtrain)"
   ]
  },
  {
   "cell_type": "code",
   "execution_count": 7,
   "metadata": {},
   "outputs": [
    {
     "data": {
      "text/plain": [
       "xgboost.core.Booster"
      ]
     },
     "execution_count": 7,
     "metadata": {},
     "output_type": "execute_result"
    }
   ],
   "source": [
    "type(booster)"
   ]
  },
  {
   "cell_type": "code",
   "execution_count": 28,
   "metadata": {
    "collapsed": true
   },
   "outputs": [],
   "source": [
    "dtest = xgb.DMatrix(train[predictors].values,feature_names=predictors)\n",
    "predictions=booster.predict(dtest)#注意xgb接收的数据结构是DMatrix"
   ]
  },
  {
   "cell_type": "code",
   "execution_count": 29,
   "metadata": {
    "scrolled": true
   },
   "outputs": [
    {
     "data": {
      "text/html": [
       "<div>\n",
       "<style>\n",
       "    .dataframe thead tr:only-child th {\n",
       "        text-align: right;\n",
       "    }\n",
       "\n",
       "    .dataframe thead th {\n",
       "        text-align: left;\n",
       "    }\n",
       "\n",
       "    .dataframe tbody tr th {\n",
       "        vertical-align: top;\n",
       "    }\n",
       "</style>\n",
       "<table border=\"1\" class=\"dataframe\">\n",
       "  <thead>\n",
       "    <tr style=\"text-align: right;\">\n",
       "      <th></th>\n",
       "      <th>test-auc-mean</th>\n",
       "      <th>test-auc-std</th>\n",
       "      <th>train-auc-mean</th>\n",
       "      <th>train-auc-std</th>\n",
       "    </tr>\n",
       "  </thead>\n",
       "  <tbody>\n",
       "    <tr>\n",
       "      <th>0</th>\n",
       "      <td>0.765980</td>\n",
       "      <td>0.013074</td>\n",
       "      <td>0.770105</td>\n",
       "      <td>0.012648</td>\n",
       "    </tr>\n",
       "    <tr>\n",
       "      <th>1</th>\n",
       "      <td>0.791815</td>\n",
       "      <td>0.019805</td>\n",
       "      <td>0.797879</td>\n",
       "      <td>0.006949</td>\n",
       "    </tr>\n",
       "    <tr>\n",
       "      <th>2</th>\n",
       "      <td>0.803918</td>\n",
       "      <td>0.019349</td>\n",
       "      <td>0.809595</td>\n",
       "      <td>0.004482</td>\n",
       "    </tr>\n",
       "    <tr>\n",
       "      <th>3</th>\n",
       "      <td>0.802861</td>\n",
       "      <td>0.021466</td>\n",
       "      <td>0.811680</td>\n",
       "      <td>0.005589</td>\n",
       "    </tr>\n",
       "    <tr>\n",
       "      <th>4</th>\n",
       "      <td>0.808680</td>\n",
       "      <td>0.017278</td>\n",
       "      <td>0.818140</td>\n",
       "      <td>0.007905</td>\n",
       "    </tr>\n",
       "    <tr>\n",
       "      <th>5</th>\n",
       "      <td>0.811605</td>\n",
       "      <td>0.016981</td>\n",
       "      <td>0.820571</td>\n",
       "      <td>0.008872</td>\n",
       "    </tr>\n",
       "    <tr>\n",
       "      <th>6</th>\n",
       "      <td>0.815010</td>\n",
       "      <td>0.016898</td>\n",
       "      <td>0.826477</td>\n",
       "      <td>0.005617</td>\n",
       "    </tr>\n",
       "    <tr>\n",
       "      <th>7</th>\n",
       "      <td>0.818460</td>\n",
       "      <td>0.017575</td>\n",
       "      <td>0.829731</td>\n",
       "      <td>0.004986</td>\n",
       "    </tr>\n",
       "    <tr>\n",
       "      <th>8</th>\n",
       "      <td>0.819429</td>\n",
       "      <td>0.017417</td>\n",
       "      <td>0.832536</td>\n",
       "      <td>0.004061</td>\n",
       "    </tr>\n",
       "    <tr>\n",
       "      <th>9</th>\n",
       "      <td>0.821038</td>\n",
       "      <td>0.018386</td>\n",
       "      <td>0.835061</td>\n",
       "      <td>0.004060</td>\n",
       "    </tr>\n",
       "    <tr>\n",
       "      <th>10</th>\n",
       "      <td>0.821466</td>\n",
       "      <td>0.017760</td>\n",
       "      <td>0.836950</td>\n",
       "      <td>0.004341</td>\n",
       "    </tr>\n",
       "    <tr>\n",
       "      <th>11</th>\n",
       "      <td>0.821979</td>\n",
       "      <td>0.017233</td>\n",
       "      <td>0.838639</td>\n",
       "      <td>0.004035</td>\n",
       "    </tr>\n",
       "    <tr>\n",
       "      <th>12</th>\n",
       "      <td>0.822466</td>\n",
       "      <td>0.017317</td>\n",
       "      <td>0.840275</td>\n",
       "      <td>0.003570</td>\n",
       "    </tr>\n",
       "    <tr>\n",
       "      <th>13</th>\n",
       "      <td>0.822469</td>\n",
       "      <td>0.016424</td>\n",
       "      <td>0.841169</td>\n",
       "      <td>0.003396</td>\n",
       "    </tr>\n",
       "    <tr>\n",
       "      <th>14</th>\n",
       "      <td>0.822711</td>\n",
       "      <td>0.015809</td>\n",
       "      <td>0.842697</td>\n",
       "      <td>0.003316</td>\n",
       "    </tr>\n",
       "    <tr>\n",
       "      <th>15</th>\n",
       "      <td>0.823745</td>\n",
       "      <td>0.014961</td>\n",
       "      <td>0.844181</td>\n",
       "      <td>0.003561</td>\n",
       "    </tr>\n",
       "    <tr>\n",
       "      <th>16</th>\n",
       "      <td>0.824546</td>\n",
       "      <td>0.014833</td>\n",
       "      <td>0.845101</td>\n",
       "      <td>0.003572</td>\n",
       "    </tr>\n",
       "    <tr>\n",
       "      <th>17</th>\n",
       "      <td>0.824847</td>\n",
       "      <td>0.014981</td>\n",
       "      <td>0.846159</td>\n",
       "      <td>0.003417</td>\n",
       "    </tr>\n",
       "    <tr>\n",
       "      <th>18</th>\n",
       "      <td>0.825259</td>\n",
       "      <td>0.015447</td>\n",
       "      <td>0.847080</td>\n",
       "      <td>0.003412</td>\n",
       "    </tr>\n",
       "    <tr>\n",
       "      <th>19</th>\n",
       "      <td>0.825773</td>\n",
       "      <td>0.016272</td>\n",
       "      <td>0.848712</td>\n",
       "      <td>0.003088</td>\n",
       "    </tr>\n",
       "    <tr>\n",
       "      <th>20</th>\n",
       "      <td>0.825435</td>\n",
       "      <td>0.016411</td>\n",
       "      <td>0.849320</td>\n",
       "      <td>0.002651</td>\n",
       "    </tr>\n",
       "    <tr>\n",
       "      <th>21</th>\n",
       "      <td>0.825248</td>\n",
       "      <td>0.016284</td>\n",
       "      <td>0.850035</td>\n",
       "      <td>0.002730</td>\n",
       "    </tr>\n",
       "    <tr>\n",
       "      <th>22</th>\n",
       "      <td>0.825668</td>\n",
       "      <td>0.016236</td>\n",
       "      <td>0.850906</td>\n",
       "      <td>0.003114</td>\n",
       "    </tr>\n",
       "    <tr>\n",
       "      <th>23</th>\n",
       "      <td>0.826376</td>\n",
       "      <td>0.015788</td>\n",
       "      <td>0.851489</td>\n",
       "      <td>0.003154</td>\n",
       "    </tr>\n",
       "    <tr>\n",
       "      <th>24</th>\n",
       "      <td>0.826982</td>\n",
       "      <td>0.015533</td>\n",
       "      <td>0.852411</td>\n",
       "      <td>0.003457</td>\n",
       "    </tr>\n",
       "    <tr>\n",
       "      <th>25</th>\n",
       "      <td>0.827581</td>\n",
       "      <td>0.015683</td>\n",
       "      <td>0.853063</td>\n",
       "      <td>0.003557</td>\n",
       "    </tr>\n",
       "    <tr>\n",
       "      <th>26</th>\n",
       "      <td>0.827746</td>\n",
       "      <td>0.015636</td>\n",
       "      <td>0.854121</td>\n",
       "      <td>0.003262</td>\n",
       "    </tr>\n",
       "    <tr>\n",
       "      <th>27</th>\n",
       "      <td>0.828062</td>\n",
       "      <td>0.015356</td>\n",
       "      <td>0.854721</td>\n",
       "      <td>0.003221</td>\n",
       "    </tr>\n",
       "    <tr>\n",
       "      <th>28</th>\n",
       "      <td>0.828138</td>\n",
       "      <td>0.015620</td>\n",
       "      <td>0.855482</td>\n",
       "      <td>0.003084</td>\n",
       "    </tr>\n",
       "    <tr>\n",
       "      <th>29</th>\n",
       "      <td>0.828148</td>\n",
       "      <td>0.016076</td>\n",
       "      <td>0.856373</td>\n",
       "      <td>0.003211</td>\n",
       "    </tr>\n",
       "    <tr>\n",
       "      <th>...</th>\n",
       "      <td>...</td>\n",
       "      <td>...</td>\n",
       "      <td>...</td>\n",
       "      <td>...</td>\n",
       "    </tr>\n",
       "    <tr>\n",
       "      <th>70</th>\n",
       "      <td>0.840055</td>\n",
       "      <td>0.015480</td>\n",
       "      <td>0.880567</td>\n",
       "      <td>0.004300</td>\n",
       "    </tr>\n",
       "    <tr>\n",
       "      <th>71</th>\n",
       "      <td>0.840245</td>\n",
       "      <td>0.015551</td>\n",
       "      <td>0.881034</td>\n",
       "      <td>0.004199</td>\n",
       "    </tr>\n",
       "    <tr>\n",
       "      <th>72</th>\n",
       "      <td>0.840410</td>\n",
       "      <td>0.015346</td>\n",
       "      <td>0.881545</td>\n",
       "      <td>0.004260</td>\n",
       "    </tr>\n",
       "    <tr>\n",
       "      <th>73</th>\n",
       "      <td>0.840513</td>\n",
       "      <td>0.015447</td>\n",
       "      <td>0.881891</td>\n",
       "      <td>0.004224</td>\n",
       "    </tr>\n",
       "    <tr>\n",
       "      <th>74</th>\n",
       "      <td>0.840616</td>\n",
       "      <td>0.015350</td>\n",
       "      <td>0.882169</td>\n",
       "      <td>0.004264</td>\n",
       "    </tr>\n",
       "    <tr>\n",
       "      <th>75</th>\n",
       "      <td>0.840723</td>\n",
       "      <td>0.015243</td>\n",
       "      <td>0.882458</td>\n",
       "      <td>0.004189</td>\n",
       "    </tr>\n",
       "    <tr>\n",
       "      <th>76</th>\n",
       "      <td>0.841122</td>\n",
       "      <td>0.015512</td>\n",
       "      <td>0.883176</td>\n",
       "      <td>0.004018</td>\n",
       "    </tr>\n",
       "    <tr>\n",
       "      <th>77</th>\n",
       "      <td>0.841088</td>\n",
       "      <td>0.015523</td>\n",
       "      <td>0.883480</td>\n",
       "      <td>0.003994</td>\n",
       "    </tr>\n",
       "    <tr>\n",
       "      <th>78</th>\n",
       "      <td>0.841105</td>\n",
       "      <td>0.015604</td>\n",
       "      <td>0.884010</td>\n",
       "      <td>0.003888</td>\n",
       "    </tr>\n",
       "    <tr>\n",
       "      <th>79</th>\n",
       "      <td>0.841282</td>\n",
       "      <td>0.015595</td>\n",
       "      <td>0.884370</td>\n",
       "      <td>0.003886</td>\n",
       "    </tr>\n",
       "    <tr>\n",
       "      <th>80</th>\n",
       "      <td>0.841431</td>\n",
       "      <td>0.015667</td>\n",
       "      <td>0.884915</td>\n",
       "      <td>0.003750</td>\n",
       "    </tr>\n",
       "    <tr>\n",
       "      <th>81</th>\n",
       "      <td>0.841666</td>\n",
       "      <td>0.015676</td>\n",
       "      <td>0.885479</td>\n",
       "      <td>0.003619</td>\n",
       "    </tr>\n",
       "    <tr>\n",
       "      <th>82</th>\n",
       "      <td>0.841657</td>\n",
       "      <td>0.015557</td>\n",
       "      <td>0.885984</td>\n",
       "      <td>0.003428</td>\n",
       "    </tr>\n",
       "    <tr>\n",
       "      <th>83</th>\n",
       "      <td>0.841711</td>\n",
       "      <td>0.015390</td>\n",
       "      <td>0.886230</td>\n",
       "      <td>0.003483</td>\n",
       "    </tr>\n",
       "    <tr>\n",
       "      <th>84</th>\n",
       "      <td>0.841810</td>\n",
       "      <td>0.015321</td>\n",
       "      <td>0.886641</td>\n",
       "      <td>0.003448</td>\n",
       "    </tr>\n",
       "    <tr>\n",
       "      <th>85</th>\n",
       "      <td>0.841917</td>\n",
       "      <td>0.015143</td>\n",
       "      <td>0.887035</td>\n",
       "      <td>0.003711</td>\n",
       "    </tr>\n",
       "    <tr>\n",
       "      <th>86</th>\n",
       "      <td>0.842426</td>\n",
       "      <td>0.014992</td>\n",
       "      <td>0.887706</td>\n",
       "      <td>0.003724</td>\n",
       "    </tr>\n",
       "    <tr>\n",
       "      <th>87</th>\n",
       "      <td>0.842593</td>\n",
       "      <td>0.014841</td>\n",
       "      <td>0.888272</td>\n",
       "      <td>0.003532</td>\n",
       "    </tr>\n",
       "    <tr>\n",
       "      <th>88</th>\n",
       "      <td>0.842725</td>\n",
       "      <td>0.014671</td>\n",
       "      <td>0.888749</td>\n",
       "      <td>0.003581</td>\n",
       "    </tr>\n",
       "    <tr>\n",
       "      <th>89</th>\n",
       "      <td>0.842590</td>\n",
       "      <td>0.014624</td>\n",
       "      <td>0.889199</td>\n",
       "      <td>0.003659</td>\n",
       "    </tr>\n",
       "    <tr>\n",
       "      <th>90</th>\n",
       "      <td>0.842865</td>\n",
       "      <td>0.014558</td>\n",
       "      <td>0.889904</td>\n",
       "      <td>0.004166</td>\n",
       "    </tr>\n",
       "    <tr>\n",
       "      <th>91</th>\n",
       "      <td>0.843220</td>\n",
       "      <td>0.014602</td>\n",
       "      <td>0.890538</td>\n",
       "      <td>0.004269</td>\n",
       "    </tr>\n",
       "    <tr>\n",
       "      <th>92</th>\n",
       "      <td>0.843523</td>\n",
       "      <td>0.014480</td>\n",
       "      <td>0.891301</td>\n",
       "      <td>0.004049</td>\n",
       "    </tr>\n",
       "    <tr>\n",
       "      <th>93</th>\n",
       "      <td>0.843571</td>\n",
       "      <td>0.014407</td>\n",
       "      <td>0.891492</td>\n",
       "      <td>0.003997</td>\n",
       "    </tr>\n",
       "    <tr>\n",
       "      <th>94</th>\n",
       "      <td>0.843503</td>\n",
       "      <td>0.014450</td>\n",
       "      <td>0.892010</td>\n",
       "      <td>0.003819</td>\n",
       "    </tr>\n",
       "    <tr>\n",
       "      <th>95</th>\n",
       "      <td>0.843521</td>\n",
       "      <td>0.014506</td>\n",
       "      <td>0.892405</td>\n",
       "      <td>0.003924</td>\n",
       "    </tr>\n",
       "    <tr>\n",
       "      <th>96</th>\n",
       "      <td>0.843473</td>\n",
       "      <td>0.014594</td>\n",
       "      <td>0.892699</td>\n",
       "      <td>0.003915</td>\n",
       "    </tr>\n",
       "    <tr>\n",
       "      <th>97</th>\n",
       "      <td>0.843727</td>\n",
       "      <td>0.014261</td>\n",
       "      <td>0.893205</td>\n",
       "      <td>0.004068</td>\n",
       "    </tr>\n",
       "    <tr>\n",
       "      <th>98</th>\n",
       "      <td>0.843816</td>\n",
       "      <td>0.014434</td>\n",
       "      <td>0.893800</td>\n",
       "      <td>0.004007</td>\n",
       "    </tr>\n",
       "    <tr>\n",
       "      <th>99</th>\n",
       "      <td>0.843802</td>\n",
       "      <td>0.014433</td>\n",
       "      <td>0.894160</td>\n",
       "      <td>0.003993</td>\n",
       "    </tr>\n",
       "  </tbody>\n",
       "</table>\n",
       "<p>100 rows × 4 columns</p>\n",
       "</div>"
      ],
      "text/plain": [
       "    test-auc-mean  test-auc-std  train-auc-mean  train-auc-std\n",
       "0        0.765980      0.013074        0.770105       0.012648\n",
       "1        0.791815      0.019805        0.797879       0.006949\n",
       "2        0.803918      0.019349        0.809595       0.004482\n",
       "3        0.802861      0.021466        0.811680       0.005589\n",
       "4        0.808680      0.017278        0.818140       0.007905\n",
       "5        0.811605      0.016981        0.820571       0.008872\n",
       "6        0.815010      0.016898        0.826477       0.005617\n",
       "7        0.818460      0.017575        0.829731       0.004986\n",
       "8        0.819429      0.017417        0.832536       0.004061\n",
       "9        0.821038      0.018386        0.835061       0.004060\n",
       "10       0.821466      0.017760        0.836950       0.004341\n",
       "11       0.821979      0.017233        0.838639       0.004035\n",
       "12       0.822466      0.017317        0.840275       0.003570\n",
       "13       0.822469      0.016424        0.841169       0.003396\n",
       "14       0.822711      0.015809        0.842697       0.003316\n",
       "15       0.823745      0.014961        0.844181       0.003561\n",
       "16       0.824546      0.014833        0.845101       0.003572\n",
       "17       0.824847      0.014981        0.846159       0.003417\n",
       "18       0.825259      0.015447        0.847080       0.003412\n",
       "19       0.825773      0.016272        0.848712       0.003088\n",
       "20       0.825435      0.016411        0.849320       0.002651\n",
       "21       0.825248      0.016284        0.850035       0.002730\n",
       "22       0.825668      0.016236        0.850906       0.003114\n",
       "23       0.826376      0.015788        0.851489       0.003154\n",
       "24       0.826982      0.015533        0.852411       0.003457\n",
       "25       0.827581      0.015683        0.853063       0.003557\n",
       "26       0.827746      0.015636        0.854121       0.003262\n",
       "27       0.828062      0.015356        0.854721       0.003221\n",
       "28       0.828138      0.015620        0.855482       0.003084\n",
       "29       0.828148      0.016076        0.856373       0.003211\n",
       "..            ...           ...             ...            ...\n",
       "70       0.840055      0.015480        0.880567       0.004300\n",
       "71       0.840245      0.015551        0.881034       0.004199\n",
       "72       0.840410      0.015346        0.881545       0.004260\n",
       "73       0.840513      0.015447        0.881891       0.004224\n",
       "74       0.840616      0.015350        0.882169       0.004264\n",
       "75       0.840723      0.015243        0.882458       0.004189\n",
       "76       0.841122      0.015512        0.883176       0.004018\n",
       "77       0.841088      0.015523        0.883480       0.003994\n",
       "78       0.841105      0.015604        0.884010       0.003888\n",
       "79       0.841282      0.015595        0.884370       0.003886\n",
       "80       0.841431      0.015667        0.884915       0.003750\n",
       "81       0.841666      0.015676        0.885479       0.003619\n",
       "82       0.841657      0.015557        0.885984       0.003428\n",
       "83       0.841711      0.015390        0.886230       0.003483\n",
       "84       0.841810      0.015321        0.886641       0.003448\n",
       "85       0.841917      0.015143        0.887035       0.003711\n",
       "86       0.842426      0.014992        0.887706       0.003724\n",
       "87       0.842593      0.014841        0.888272       0.003532\n",
       "88       0.842725      0.014671        0.888749       0.003581\n",
       "89       0.842590      0.014624        0.889199       0.003659\n",
       "90       0.842865      0.014558        0.889904       0.004166\n",
       "91       0.843220      0.014602        0.890538       0.004269\n",
       "92       0.843523      0.014480        0.891301       0.004049\n",
       "93       0.843571      0.014407        0.891492       0.003997\n",
       "94       0.843503      0.014450        0.892010       0.003819\n",
       "95       0.843521      0.014506        0.892405       0.003924\n",
       "96       0.843473      0.014594        0.892699       0.003915\n",
       "97       0.843727      0.014261        0.893205       0.004068\n",
       "98       0.843816      0.014434        0.893800       0.004007\n",
       "99       0.843802      0.014433        0.894160       0.003993\n",
       "\n",
       "[100 rows x 4 columns]"
      ]
     },
     "execution_count": 29,
     "metadata": {},
     "output_type": "execute_result"
    }
   ],
   "source": [
    "cv_result=xgb.cv(param,dtrain,num_boost_round=100,nfold=5,metrics='auc',early_stopping_rounds=50)\n",
    "cv_result"
   ]
  },
  {
   "cell_type": "code",
   "execution_count": 15,
   "metadata": {},
   "outputs": [
    {
     "data": {
      "text/plain": [
       "<matplotlib.axes._subplots.AxesSubplot at 0x111a7e240>"
      ]
     },
     "execution_count": 15,
     "metadata": {},
     "output_type": "execute_result"
    },
    {
     "data": {
      "image/png": "[encoded data removed]",
      "text/plain": [
       "<matplotlib.figure.Figure at 0x10db63c50>"
      ]
     },
     "metadata": {},
     "output_type": "display_data"
    }
   ],
   "source": [
    "xgb.plot_importance(booster)"
   ]
  },
  {
   "cell_type": "code",
   "execution_count": 7,
   "metadata": {},
   "outputs": [
    {
     "data": {
      "text/plain": [
       "<matplotlib.axes._subplots.AxesSubplot at 0x11549fbe0>"
      ]
     },
     "execution_count": 7,
     "metadata": {},
     "output_type": "execute_result"
    },
    {
     "data": {
      "image/png": "[encoded data removed]",
      "text/plain": [
       "<matplotlib.figure.Figure at 0x115c7acc0>"
      ]
     },
     "metadata": {},
     "output_type": "display_data"
    }
   ],
   "source": [
    "xgb.plot_tree(booster)"
   ]
  },
  {
   "cell_type": "code",
   "execution_count": 14,
   "metadata": {},
   "outputs": [
    {
     "data": {
      "text/plain": [
       "xgboost.sklearn.XGBClassifier"
      ]
     },
     "execution_count": 14,
     "metadata": {},
     "output_type": "execute_result"
    }
   ],
   "source": [
    "xgb1 = XGBClassifier(\n",
    " learning_rate =0.1,\n",
    " n_estimators=100,\n",
    " max_depth=5,\n",
    " min_child_weight=1,\n",
    " gamma=0,\n",
    " subsample=0.8,\n",
    " colsample_bytree=0.8,\n",
    " objective= 'binary:logistic',\n",
    " scale_pos_weight=1,\n",
    " nthread=4,\n",
    " seed=27)\n",
    "type(xgb1)"
   ]
  },
  {
   "cell_type": "code",
   "execution_count": 15,
   "metadata": {},
   "outputs": [
    {
     "data": {
      "text/plain": [
       "XGBClassifier(base_score=0.5, booster='gbtree', colsample_bylevel=1,\n",
       "       colsample_bytree=0.8, gamma=0, learning_rate=0.1, max_delta_step=0,\n",
       "       max_depth=5, min_child_weight=1, missing=None, n_estimators=100,\n",
       "       n_jobs=1, nthread=4, objective='binary:logistic', random_state=0,\n",
       "       reg_alpha=0, reg_lambda=1, scale_pos_weight=1, seed=27, silent=True,\n",
       "       subsample=0.8)"
      ]
     },
     "execution_count": 15,
     "metadata": {},
     "output_type": "execute_result"
    }
   ],
   "source": [
    "xgb1.fit(train[predictors],train['Disbursed'],eval_metric='auc')#训练模型,注意数据结构不是DMatrix了"
   ]
  },
  {
   "cell_type": "code",
   "execution_count": 18,
   "metadata": {},
   "outputs": [
    {
     "ename": "AttributeError",
     "evalue": "'XGBClassifier' object has no attribute 'evals_result_'",
     "output_type": "error",
     "traceback": [
      "\u001b[0;31m---------------------------------------------------------------------------\u001b[0m",
      "\u001b[0;31mAttributeError\u001b[0m                            Traceback (most recent call last)",
      "\u001b[0;32m<ipython-input-18-7af1724ee33c>\u001b[0m in \u001b[0;36m<module>\u001b[0;34m()\u001b[0m\n\u001b[0;32m----> 1\u001b[0;31m \u001b[0mxgb1\u001b[0m\u001b[0;34m.\u001b[0m\u001b[0mevals_result\u001b[0m\u001b[0;34m(\u001b[0m\u001b[0;34m)\u001b[0m\u001b[0;34m\u001b[0m\u001b[0m\n\u001b[0m",
      "\u001b[0;32m//anaconda/lib/python3.5/site-packages/xgboost-0.6-py3.5.egg/xgboost/sklearn.py\u001b[0m in \u001b[0;36mevals_result\u001b[0;34m(self)\u001b[0m\n\u001b[1;32m    567\u001b[0m          'validation_1': {'logloss': ['0.41965', '0.17686']}}\n\u001b[1;32m    568\u001b[0m         \"\"\"\n\u001b[0;32m--> 569\u001b[0;31m         \u001b[0;32mif\u001b[0m \u001b[0mself\u001b[0m\u001b[0;34m.\u001b[0m\u001b[0mevals_result_\u001b[0m\u001b[0;34m:\u001b[0m\u001b[0;34m\u001b[0m\u001b[0m\n\u001b[0m\u001b[1;32m    570\u001b[0m             \u001b[0mevals_result\u001b[0m \u001b[0;34m=\u001b[0m \u001b[0mself\u001b[0m\u001b[0;34m.\u001b[0m\u001b[0mevals_result_\u001b[0m\u001b[0;34m\u001b[0m\u001b[0m\n\u001b[1;32m    571\u001b[0m         \u001b[0;32melse\u001b[0m\u001b[0;34m:\u001b[0m\u001b[0;34m\u001b[0m\u001b[0m\n",
      "\u001b[0;31mAttributeError\u001b[0m: 'XGBClassifier' object has no attribute 'evals_result_'"
     ]
    }
   ],
   "source": [
    "xgb1.evals_result()#  ??"
   ]
  },
  {
   "cell_type": "code",
   "execution_count": 20,
   "metadata": {},
   "outputs": [
    {
     "data": {
      "text/plain": [
       "array([ 0.,  0.,  0., ...,  0.,  0.,  0.])"
      ]
     },
     "execution_count": 20,
     "metadata": {},
     "output_type": "execute_result"
    }
   ],
   "source": [
    "dtrain_predictions = xgb1.predict(train[predictors])\n",
    "dtrain_predictions"
   ]
  },
  {
   "cell_type": "code",
   "execution_count": 22,
   "metadata": {},
   "outputs": [
    {
     "data": {
      "text/plain": [
       "array([ 0.00626409,  0.02639912,  0.00792859, ...,  0.04323023,\n",
       "        0.05599913,  0.02282634], dtype=float32)"
      ]
     },
     "execution_count": 22,
     "metadata": {},
     "output_type": "execute_result"
    }
   ],
   "source": [
    "dtrain_predprob = xgb1.predict_proba(train[predictors])[:,1]\n",
    "dtrain_predprob"
   ]
  },
  {
   "cell_type": "code",
   "execution_count": 38,
   "metadata": {},
   "outputs": [
    {
     "data": {
      "text/plain": [
       "numpy.float64"
      ]
     },
     "execution_count": 38,
     "metadata": {},
     "output_type": "execute_result"
    }
   ],
   "source": [
    "type(cv_result.iloc[1,1])"
   ]
  },
  {
   "cell_type": "code",
   "execution_count": null,
   "metadata": {
    "collapsed": true
   },
   "outputs": [],
   "source": []
  }
 ],
 "metadata": {
  "anaconda-cloud": {},
  "kernelspec": {
   "display_name": "Python [conda root]",
   "language": "python",
   "name": "conda-root-py"
  },
  "language_info": {
   "codemirror_mode": {
    "name": "ipython",
    "version": 3
   },
   "file_extension": ".py",
   "mimetype": "text/x-python",
   "name": "python",
   "nbconvert_exporter": "python",
   "pygments_lexer": "ipython3",
   "version": "3.5.3"
  }
 },
 "nbformat": 4,
 "nbformat_minor": 1
}
