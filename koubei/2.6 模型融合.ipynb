{
 "cells": [
  {
   "cell_type": "code",
   "execution_count": 1,
   "metadata": {
    "collapsed": true
   },
   "outputs": [],
   "source": [
    "from IJCAI2017_TOOL import *"
   ]
  },
  {
   "cell_type": "code",
   "execution_count": 2,
   "metadata": {
    "collapsed": true
   },
   "outputs": [],
   "source": [
    "Day_list =  [(lambda x:('D'+ str(x).zfill(2))) (x)  for x in range(1,15)]\n",
    "result_columns =['SHOP_ID'] + Day_list"
   ]
  },
  {
   "cell_type": "code",
   "execution_count": 6,
   "metadata": {},
   "outputs": [],
   "source": [
    "result_merge1 = pd.read_csv('./Flamingo_Rank4_code/model/xgb_model1.csv',names = result_columns)\n",
    "result_merge2 = pd.read_csv('./Flamingo_Rank4_code/model/GBDT_model.csv',names = result_columns)\n",
    "result_merge3 = pd.read_csv('./Flamingo_Rank4_code/model/xgb_model2.csv',names = result_columns)"
   ]
  },
  {
   "cell_type": "code",
   "execution_count": 7,
   "metadata": {
    "collapsed": true
   },
   "outputs": [],
   "source": [
    "#三个提升模型的融合 \n",
    "result_merged  = result_merge1.copy()\n",
    "result_merged[Day_list] = 0.47* result_merge1[Day_list] + 0.19*result_merge2[Day_list]  + 0.34*result_merge3[Day_list]\n",
    "result_merged['SHOP_ID'] = result_merged['SHOP_ID'].astype(int)"
   ]
  },
  {
   "cell_type": "code",
   "execution_count": 8,
   "metadata": {
    "collapsed": true
   },
   "outputs": [],
   "source": [
    "result = result_merged.copy()"
   ]
  },
  {
   "cell_type": "code",
   "execution_count": 9,
   "metadata": {},
   "outputs": [
    {
     "name": "stdout",
     "output_type": "stream",
     "text": [
      "2000\n",
      "2000\n",
      "2000\n",
      "2000\n"
     ]
    }
   ],
   "source": [
    "print( len( result_merge1.groupby(['SHOP_ID'],as_index = False).count()) )\n",
    "print( len( result_merge2.groupby(['SHOP_ID'],as_index = False).count()) )\n",
    "print( len( result_merge3.groupby(['SHOP_ID'],as_index = False).count()) )\n",
    "print( len( result_merged.groupby(['SHOP_ID'],as_index = False).count()) )"
   ]
  },
  {
   "cell_type": "code",
   "execution_count": 14,
   "metadata": {
    "collapsed": true
   },
   "outputs": [],
   "source": [
    "#加入均值模型\n",
    "Cor_model = pd.read_csv('./Flamingo_Rank4_code/model/cor_model.csv')\n",
    "Day_list2 =  [(lambda x:('Cor_D'+ str(x).zfill(2))) (x)  for x in range(1,15)]\n",
    "Cor_model.columns = ['SHOP_ID'] + Day_list2 + ['credit']\n",
    "\n",
    "Cor_model['SHOP_ID'] = Cor_model['SHOP_ID'].astype(int)\n",
    "\n",
    "result = pd.merge(result,Cor_model,on = ['SHOP_ID'],how = 'left' )\n",
    "\n",
    "#将有融合系数的行进行融合,没有的还是按提升模型的值\n",
    "null_ind = result['credit'].isnull()\n",
    "tt1 = result.loc[~null_ind, Day_list].multiply(1.0-result.loc[~null_ind, 'credit'],axis = 0)\n",
    "tt2 = result.loc[~null_ind, Day_list2].multiply(result.loc[~null_ind, 'credit'],axis = 0)\n",
    "tt2.columns = Day_list\n",
    "tt3 = tt1 + tt2\n",
    "\n",
    "for ind,value in tt3.iterrows():\n",
    "    result.loc[ind,Day_list] = value.values\n",
    "result = result[result_columns]"
   ]
  },
  {
   "cell_type": "code",
   "execution_count": 15,
   "metadata": {
    "collapsed": true
   },
   "outputs": [],
   "source": [
    "#加入双11修正模型\n",
    "DOU11 = pd.read_csv('./Flamingo_Rank4_code/model/DOU11_coef.csv')\n",
    "\n",
    "#result = pd.merge(result, SHOP_INFO_EN, on=['SHOP_ID'],how = 'left')\n",
    "result = pd.merge(result, DOU11, on=['SHOP_ID'],how = 'left')\n",
    "\n",
    "#双11系数进行销量调制 双11当天销量乘以双11销量修正模型得到的销量增量，11-12, 11-13由于为周六周日，有理由相信其销量与11-11(周五)的表现存在相似性， 因而乘以0.2及0.1倍的销量增量系数。\n",
    "result['D11'] = result['D11'] * (result['DOU11']*0.8 + 1.0*(0.2) )\n",
    "result['D12'] = result['D12'] * (result['DOU11']*0.2+ 1.0*0.8)\n",
    "result['D13'] = result['D13'] * (result['DOU11']*0.1+ 1.0*0.9)\n",
    "\n",
    "result = result[result_columns]"
   ]
  },
  {
   "cell_type": "code",
   "execution_count": 16,
   "metadata": {
    "collapsed": true
   },
   "outputs": [],
   "source": [
    "result = result.round()\n",
    "result = result.astype(np.int)\n",
    "filename = 'FINAL_RESULT.csv'\n",
    "result.to_csv(filename,header=None, index = False)"
   ]
  },
  {
   "cell_type": "code",
   "execution_count": null,
   "metadata": {
    "collapsed": true
   },
   "outputs": [],
   "source": []
  }
 ],
 "metadata": {
  "kernelspec": {
   "display_name": "Python 2",
   "language": "python",
   "name": "python2"
  },
  "language_info": {
   "codemirror_mode": {
    "name": "ipython",
    "version": 2
   },
   "file_extension": ".py",
   "mimetype": "text/x-python",
   "name": "python",
   "nbconvert_exporter": "python",
   "pygments_lexer": "ipython2",
   "version": "2.7.13"
  }
 },
 "nbformat": 4,
 "nbformat_minor": 2
}
